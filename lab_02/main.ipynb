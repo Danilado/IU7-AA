{
 "cells": [
  {
   "cell_type": "code",
   "execution_count": null,
   "metadata": {},
   "outputs": [],
   "source": [
    "from random import randint\n",
    "\n",
    "\n",
    "def get_random_matrix(n, m):\n",
    "    return [[randint(0, 100) for _ in range(m)] for _ in range(n)]"
   ]
  },
  {
   "cell_type": "code",
   "execution_count": null,
   "metadata": {},
   "outputs": [],
   "source": [
    "import time\n",
    "\n",
    "import src.simple\n",
    "import src.winograd\n",
    "\n",
    "MAX_N = 500\n",
    "START_N = 5\n",
    "STEP = 7\n",
    "\n",
    "\n",
    "n_records = []\n",
    "simple_records = []\n",
    "winograd_records = []\n",
    "opt_wino_records = []\n",
    "\n",
    "for i in range(START_N, MAX_N, STEP):\n",
    "    print(f\"{i=}\", end=\"\\r\")\n",
    "    n_records.append(i)\n",
    "\n",
    "    a = get_random_matrix(i, i)\n",
    "    b = get_random_matrix(i, i)\n",
    "\n",
    "    start = time.process_time_ns()\n",
    "    src.simple.multiply(a, b)\n",
    "    stop = time.process_time_ns()\n",
    "\n",
    "    simple_records.append((stop - start) / 1000 / 1000)\n",
    "\n",
    "    start = time.process_time_ns()\n",
    "    src.winograd.multiply(a, b)\n",
    "    stop = time.process_time_ns()\n",
    "\n",
    "    winograd_records.append((stop - start) / 1000 / 1000)\n",
    "\n",
    "    start = time.process_time_ns()\n",
    "    src.winograd.multiply_optimized(a, b)\n",
    "    stop = time.process_time_ns()\n",
    "\n",
    "    opt_wino_records.append((stop - start) / 1000 / 1000)"
   ]
  },
  {
   "cell_type": "code",
   "execution_count": null,
   "metadata": {},
   "outputs": [],
   "source": [
    "print(\"Результаты замеров:\")\n",
    "with open(\"report/table.csv\", \"w\") as f:\n",
    "    for record in zip(n_records, simple_records, winograd_records, opt_wino_records):\n",
    "        print(f\"{record[0]:.3f}\\t{record[1]:.3f}\\t{\n",
    "              record[2]:.3f}\\t{record[3]:.3f}\")\n",
    "        f.write(f\"{record[0]:.3f},{record[1]:.3f},{\n",
    "                record[2]:.3f},{record[3]:.3f}\\n\")"
   ]
  },
  {
   "cell_type": "code",
   "execution_count": null,
   "metadata": {},
   "outputs": [],
   "source": [
    "import matplotlib.pyplot as plt\n",
    "\n",
    "plt.plot(n_records, simple_records, label=\"время умножения простым алгоритмом\")\n",
    "plt.plot(n_records, winograd_records, \"g--\",\n",
    "         label=\"время умножения алгоритмом винограда\")\n",
    "plt.plot(n_records, opt_wino_records, \"r+-\",\n",
    "         label=\"время умножения алгоритмом винограда с опт.\")\n",
    "\n",
    "\n",
    "plt.xlabel(\"Размер стороны матрицы\")\n",
    "plt.ylabel(\"Время умножения (мс)\")\n",
    "\n",
    "plt.legend()\n",
    "\n",
    "plt.tight_layout()\n",
    "plt.savefig(\"./report/img/profiling.svg\")\n",
    "\n",
    "plt.show()"
   ]
  }
 ],
 "metadata": {
  "kernelspec": {
   "display_name": "Python 3",
   "language": "python",
   "name": "python3"
  },
  "language_info": {
   "codemirror_mode": {
    "name": "ipython",
    "version": 3
   },
   "file_extension": ".py",
   "mimetype": "text/x-python",
   "name": "python",
   "nbconvert_exporter": "python",
   "pygments_lexer": "ipython3",
   "version": "3.12.7"
  }
 },
 "nbformat": 4,
 "nbformat_minor": 2
}
